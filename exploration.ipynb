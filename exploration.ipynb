{
 "cells": [
  {
   "cell_type": "code",
   "execution_count": 1,
   "id": "6cc16dfd",
   "metadata": {},
   "outputs": [],
   "source": [
    "import pandas as pd \n",
    "import numpy as np\n",
    "import matplotlib.pyplot as plt \n",
    "import seaborn as sns"
   ]
  },
  {
   "cell_type": "code",
   "execution_count": 2,
   "id": "d524f1ad",
   "metadata": {},
   "outputs": [],
   "source": [
    "df = pd.read_csv('Train_timeseries.csv')"
   ]
  },
  {
   "cell_type": "code",
   "execution_count": null,
   "id": "0ae22b25",
   "metadata": {},
   "outputs": [],
   "source": [
    "# Plot individual columns\n",
    "for col in df.columns:\n",
    "    plt.figure(figsize=(10, 6))\n",
    "    plt.plot(df[col])\n",
    "    plt.title(f'Time Series Plot of {col}')\n",
    "    plt.xlabel('Time')\n",
    "    plt.ylabel(col)\n",
    "    plt.grid(True)\n",
    "    plt.show()"
   ]
  },
  {
   "cell_type": "code",
   "execution_count": null,
   "id": "88377130",
   "metadata": {},
   "outputs": [],
   "source": [
    "# Plot all columns together\n",
    "plt.figure(figsize=(12, 6))\n",
    "for col in df.columns:\n",
    "  plt.plot(df[col], label=col)\n",
    "plt.title('Combined Time Series Plot')\n",
    "plt.xlabel('Time')\n",
    "plt.ylabel('Values')\n",
    "plt.legend()\n",
    "plt.grid(True)\n",
    "plt.show()\n"
   ]
  },
  {
   "cell_type": "code",
   "execution_count": null,
   "id": "6d2cd4de",
   "metadata": {},
   "outputs": [],
   "source": [
    "\n",
    "# Calculate and plot correlations\n",
    "correlation_matrix = df.corr()\n",
    "plt.figure(figsize=(8, 6))\n",
    "sns.heatmap(correlation_matrix, annot=True, cmap='coolwarm', fmt=\".2f\")\n",
    "plt.title('Correlation Matrix of Time Series')\n",
    "plt.show()"
   ]
  },
  {
   "cell_type": "code",
   "execution_count": null,
   "id": "98e7b41f",
   "metadata": {},
   "outputs": [],
   "source": [
    "# Plot rolling statistics (e.g., rolling mean and standard deviation)\n",
    "window_size = 7 # Example window size\n",
    "\n",
    "for col in df.columns:\n",
    "  plt.figure(figsize=(10, 6))\n",
    "  plt.plot(df[col], label='Original')\n",
    "  plt.plot(df[col].rolling(window=window_size).mean(), label=f'Rolling Mean ({window_size})')\n",
    "  plt.plot(df[col].rolling(window=window_size).std(), label=f'Rolling Std ({window_size})')\n",
    "  plt.title(f'Rolling Statistics for {col}')\n",
    "  plt.legend()\n",
    "  plt.grid(True)\n",
    "  plt.show()"
   ]
  },
  {
   "cell_type": "code",
   "execution_count": null,
   "id": "6e579c93",
   "metadata": {},
   "outputs": [],
   "source": [
    "# Histograms and density plots\n",
    "for col in df.columns:\n",
    "    plt.figure(figsize=(8, 6))\n",
    "    sns.histplot(df[col], kde=True)\n",
    "    plt.title(f'Distribution of {col}')\n",
    "    plt.show()\n"
   ]
  }
 ],
 "metadata": {
  "kernelspec": {
   "display_name": ".venv",
   "language": "python",
   "name": "python3"
  },
  "language_info": {
   "codemirror_mode": {
    "name": "ipython",
    "version": 3
   },
   "file_extension": ".py",
   "mimetype": "text/x-python",
   "name": "python",
   "nbconvert_exporter": "python",
   "pygments_lexer": "ipython3",
   "version": "3.10.0"
  }
 },
 "nbformat": 4,
 "nbformat_minor": 5
}
